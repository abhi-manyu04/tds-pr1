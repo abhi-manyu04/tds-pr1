{
 "cells": [
  {
   "cell_type": "code",
   "execution_count": 3,
   "metadata": {},
   "outputs": [],
   "source": [
    "import pandas as pd"
   ]
  },
  {
   "cell_type": "code",
   "execution_count": 4,
   "metadata": {},
   "outputs": [],
   "source": [
    "user_file_path = 'base_users.csv'\n",
    "repo_file_path ='base_repositories.csv'  "
   ]
  },
  {
   "cell_type": "code",
   "execution_count": 40,
   "metadata": {},
   "outputs": [],
   "source": [
    "usersdf = pd.read_csv(user_file_path)\n",
    "repositoriesdf = pd.read_csv(repo_file_path)\n"
   ]
  },
  {
   "cell_type": "code",
   "execution_count": 6,
   "metadata": {},
   "outputs": [],
   "source": [
    "# usersdf['hireable'].fillna(False, inplace=True)\n",
    "# usersdf.to_csv('users.csv', index=False)"
   ]
  },
  {
   "cell_type": "markdown",
   "metadata": {},
   "source": [
    "### Q1\n",
    "Who are the top 5 users in Austin with the highest number of followers? List their login in order, comma-separated."
   ]
  },
  {
   "cell_type": "code",
   "execution_count": 7,
   "metadata": {},
   "outputs": [
    {
     "name": "stdout",
     "output_type": "stream",
     "text": [
      "['getify', 'benawad', 'steveklabnik', 'cloudflare', 'jbogard']\n"
     ]
    }
   ],
   "source": [
    "top_users = usersdf.nlargest(5, 'followers')\n",
    "top_user_logins = top_users['login'].tolist()\n",
    "top_user_logins"
   ]
  },
  {
   "cell_type": "markdown",
   "metadata": {},
   "source": [
    "### Q2\n",
    "Who are the 5 earliest registered GitHub users in Austin? List their login in ascending order of created_at, comma-separated."
   ]
  },
  {
   "cell_type": "code",
   "execution_count": 11,
   "metadata": {},
   "outputs": [
    {
     "data": {
      "text/plain": [
       "['jnewland', 'joshknowles', 'hassox', 'jicksta', 'dan']"
      ]
     },
     "execution_count": 11,
     "metadata": {},
     "output_type": "execute_result"
    }
   ],
   "source": [
    "earliest_users = usersdf.sort_values(by='created_at')\n",
    "earliest_logins = earliest_users['login'].head(5).tolist()\n",
    "earliest_logins"
   ]
  },
  {
   "cell_type": "markdown",
   "metadata": {},
   "source": [
    "### Q3\n",
    "What are the 3 most popular license among these users? Ignore missing licenses. List the license_name in order, comma-separated."
   ]
  },
  {
   "cell_type": "code",
   "execution_count": 12,
   "metadata": {},
   "outputs": [
    {
     "data": {
      "text/plain": [
       "['mit', 'apache-2.0', 'other']"
      ]
     },
     "execution_count": 12,
     "metadata": {},
     "output_type": "execute_result"
    }
   ],
   "source": [
    "popular_licenses = repositoriesdf['license_name'].dropna()\n",
    "license_counts = popular_licenses.value_counts()\n",
    "top_3_licenses = license_counts.nlargest(3)\n",
    "result = top_3_licenses.index.tolist()\n",
    "result"
   ]
  },
  {
   "cell_type": "markdown",
   "metadata": {},
   "source": [
    "### Q4\n",
    "Which company do the majority of these developers work at?"
   ]
  },
  {
   "cell_type": "code",
   "execution_count": 16,
   "metadata": {},
   "outputs": [
    {
     "data": {
      "text/plain": [
       "'GOOGLE'"
      ]
     },
     "execution_count": 16,
     "metadata": {},
     "output_type": "execute_result"
    }
   ],
   "source": [
    "company_counts = usersdf['company'].value_counts()\n",
    "most_common_company = company_counts.idxmax()\n",
    "# most_common_count = company_counts.max()\n",
    "most_common_company"
   ]
  },
  {
   "cell_type": "markdown",
   "metadata": {},
   "source": [
    "### Q5\n",
    "Which programming language is most popular among these users?"
   ]
  },
  {
   "cell_type": "code",
   "execution_count": 17,
   "metadata": {},
   "outputs": [
    {
     "data": {
      "text/plain": [
       "'JavaScript'"
      ]
     },
     "execution_count": 17,
     "metadata": {},
     "output_type": "execute_result"
    }
   ],
   "source": [
    "language_counts = repositoriesdf['language'].value_counts()\n",
    "most_popular_language = language_counts.idxmax()\n",
    "most_popular_count = language_counts.max()\n",
    "most_popular_language"
   ]
  },
  {
   "cell_type": "markdown",
   "metadata": {},
   "source": [
    "### Q6\n",
    "Which programming language is the second most popular among users who joined after 2020?"
   ]
  },
  {
   "cell_type": "code",
   "execution_count": 18,
   "metadata": {},
   "outputs": [
    {
     "name": "stdout",
     "output_type": "stream",
     "text": [
      "The second most popular programming language is: HTML (75 repositories)\n"
     ]
    }
   ],
   "source": [
    "usersdf['created_at'] = pd.to_datetime(usersdf['created_at'])\n",
    "recent_users = usersdf[usersdf['created_at'] > '2020-01-01']\n",
    "recent_user_logins = recent_users['login']\n",
    "filtered_repositories = repositoriesdf[repositoriesdf['login'].isin(recent_user_logins)]\n",
    "\n",
    "language_counts = filtered_repositories['language'].value_counts()\n",
    "\n",
    "if len(language_counts) >= 2:\n",
    "    second_most_popular_language = language_counts.index[1]\n",
    "    second_most_popular_count = language_counts[1]\n",
    "    print(f\"The second most popular programming language is: {second_most_popular_language} ({second_most_popular_count} repositories)\")\n",
    "else:\n",
    "    print(\"Not enough data to determine the second most popular language.\")"
   ]
  },
  {
   "cell_type": "markdown",
   "metadata": {},
   "source": [
    "### Q7\n",
    "Which language has the highest average number of stars per repository?"
   ]
  },
  {
   "cell_type": "code",
   "execution_count": 19,
   "metadata": {},
   "outputs": [
    {
     "data": {
      "text/plain": [
       "'Fennel'"
      ]
     },
     "execution_count": 19,
     "metadata": {},
     "output_type": "execute_result"
    }
   ],
   "source": [
    "average_stars = repositoriesdf.groupby('language')['stargazers_count'].mean()\n",
    "\n",
    "highest_average_language = average_stars.idxmax()\n",
    "highest_average_count = average_stars.max()\n",
    "highest_average_language\n"
   ]
  },
  {
   "cell_type": "markdown",
   "metadata": {},
   "source": [
    "### Q8\n",
    "Let's define leader_strength as followers / (1 + following). Who are the top 5 in terms of leader_strength? List their login in order, comma-separated."
   ]
  },
  {
   "cell_type": "code",
   "execution_count": 21,
   "metadata": {},
   "outputs": [
    {
     "data": {
      "text/plain": [
       "'getify, cloudflare, benawad, oracle, ContinuumIO'"
      ]
     },
     "execution_count": 21,
     "metadata": {},
     "output_type": "execute_result"
    }
   ],
   "source": [
    "usersdf['leader_strength'] = usersdf['followers'] / (1 + usersdf['following'])\n",
    "top_leaders = usersdf.nlargest(5, 'leader_strength')\n",
    "top_logins = top_leaders['login'].tolist()\n",
    "', '.join(top_logins)"
   ]
  },
  {
   "cell_type": "markdown",
   "metadata": {},
   "source": [
    "### Q9\n",
    "What is the correlation between the number of followers and the number of public repositories among users in Austin?"
   ]
  },
  {
   "cell_type": "code",
   "execution_count": 22,
   "metadata": {},
   "outputs": [
    {
     "data": {
      "text/plain": [
       "0.151"
      ]
     },
     "execution_count": 22,
     "metadata": {},
     "output_type": "execute_result"
    }
   ],
   "source": [
    "correlation = usersdf['followers'].corr(usersdf['public_repos'])\n",
    "round(correlation, 3)"
   ]
  },
  {
   "cell_type": "markdown",
   "metadata": {},
   "source": [
    "### Q10\n",
    "Does creating more repos help users get more followers? Using regression, estimate how many additional followers a user gets per additional public repository.\n",
    "Regression slope of followers on repos (to 3 decimal places, e.g. 0.123 or -0.123)"
   ]
  },
  {
   "cell_type": "code",
   "execution_count": 23,
   "metadata": {},
   "outputs": [],
   "source": [
    "import statsmodels.api as sm"
   ]
  },
  {
   "cell_type": "code",
   "execution_count": 24,
   "metadata": {},
   "outputs": [
    {
     "data": {
      "text/plain": [
       "4.102"
      ]
     },
     "execution_count": 24,
     "metadata": {},
     "output_type": "execute_result"
    }
   ],
   "source": [
    "X = usersdf['public_repos'] \n",
    "y = usersdf['followers']\n",
    "\n",
    "X = sm.add_constant(X)\n",
    "model = sm.OLS(y, X).fit()\n",
    "\n",
    "slope = model.params['public_repos']\n",
    "round(slope, 3)"
   ]
  },
  {
   "cell_type": "markdown",
   "metadata": {},
   "source": [
    "### Q11\n",
    "Do people typically enable projects and wikis together? What is the correlation between a repo having projects enabled and having wiki enabled?\n",
    "Correlation between projects and wiki enabled (to 3 decimal places, e.g. 0.123 or -0.123)"
   ]
  },
  {
   "cell_type": "code",
   "execution_count": 27,
   "metadata": {},
   "outputs": [
    {
     "data": {
      "text/plain": [
       "0.274"
      ]
     },
     "execution_count": 27,
     "metadata": {},
     "output_type": "execute_result"
    }
   ],
   "source": [
    "repositoriesdf['has_projects'] = repositoriesdf['has_projects'].astype(int)\n",
    "repositoriesdf['has_wiki'] = repositoriesdf['has_wiki'].astype(int)\n",
    "\n",
    "correlation = repositoriesdf['has_projects'].corr(repositoriesdf['has_wiki'])\n",
    "round(correlation, 3)"
   ]
  },
  {
   "cell_type": "markdown",
   "metadata": {},
   "source": [
    "### Q12\n",
    "Do hireable users follow more people than those who are not hireable?\n",
    "Average of following per user for hireable=true minus the average following for the rest (to 3 decimal places, e.g. 12.345 or -12.345)"
   ]
  },
  {
   "cell_type": "code",
   "execution_count": 28,
   "metadata": {},
   "outputs": [
    {
     "data": {
      "text/plain": [
       "nan"
      ]
     },
     "execution_count": 28,
     "metadata": {},
     "output_type": "execute_result"
    }
   ],
   "source": [
    "avg_following_hireable = usersdf[usersdf['hireable'] == True]['following'].mean()\n",
    "avg_following_non_hireable = usersdf[usersdf['hireable'] == False]['following'].mean()\n",
    "\n",
    "difference = avg_following_hireable - avg_following_non_hireable\n",
    "round(difference, 3)"
   ]
  },
  {
   "cell_type": "markdown",
   "metadata": {},
   "source": [
    "### Q13\n",
    "Some developers write long bios. Does that help them get more followers? What's the correlation of the length of their bio (in Unicode words, split by whitespace) with followers? (Ignore people without bios)\n",
    "Regression slope of followers on bio word count (to 3 decimal places, e.g. 12.345 or -12.345)"
   ]
  },
  {
   "cell_type": "code",
   "execution_count": 43,
   "metadata": {},
   "outputs": [
    {
     "name": "stderr",
     "output_type": "stream",
     "text": [
      "C:\\Users\\abhim\\AppData\\Local\\Temp\\ipykernel_19344\\3335181940.py:3: SettingWithCopyWarning: \n",
      "A value is trying to be set on a copy of a slice from a DataFrame.\n",
      "Try using .loc[row_indexer,col_indexer] = value instead\n",
      "\n",
      "See the caveats in the documentation: https://pandas.pydata.org/pandas-docs/stable/user_guide/indexing.html#returning-a-view-versus-a-copy\n",
      "  users_with_bios.loc[:, 'bio_word_count'] = users_with_bios['bio'].apply(lambda x: len(x.split()))\n"
     ]
    },
    {
     "data": {
      "text/plain": [
       "7.974"
      ]
     },
     "execution_count": 43,
     "metadata": {},
     "output_type": "execute_result"
    }
   ],
   "source": [
    "users_with_bios = usersdf[usersdf['bio'].notna()]\n",
    "\n",
    "users_with_bios.loc[:, 'bio_word_count'] = users_with_bios['bio'].apply(lambda x: len(x.split()))\n",
    "\n",
    "X = users_with_bios['bio_word_count']  \n",
    "y = users_with_bios['followers'] \n",
    "\n",
    "X = sm.add_constant(X)\n",
    "model = sm.OLS(y, X).fit()\n",
    "slope = model.params['bio_word_count']\n",
    "\n",
    "round(slope, 3)"
   ]
  },
  {
   "cell_type": "code",
   "execution_count": 39,
   "metadata": {},
   "outputs": [
    {
     "data": {
      "text/plain": [
       "'Kyle Simpson is a Human-Centric Technologist. He\\'s fighting for the people behind the pixels., React.js, Typescript, Node.js, PostgreSQL, All i\\'m trying to do is enjoy every day to the fullest with my Pokmon., The Barley Architect, Architect Consultant, Building 𝝠 Expo • Follow me on 𝕏 for updates 🥓, Open Source at Oracle, Full Professor at The University of Texas at Austin working on \\r\\nSpatial Data Analytics, Geostatistics and Machine Learning, Advanced data processing, analysis, and visualization tools for Python & R., Co-founder of Luro. Lead developer at Paravel. Co-host of ShopTalkShow. Purveyor of tiny jQueries., Ruby core contributor. Learn how to contribute to open source with my app CodeTriage (free) and my book How to Open Source (paid), links below 👇🏻, CEO, Fleet.  Creator & BDFL, sails.js, <script>alert(1)</script>, Tech lead of Cloudflare Workers, Cap\\'n Proto, Sandstorm.io., Developer at Bluesky, Staff Engineer at @discord working on Design Systems and Accessibility. Previously @facebook, @FormidableLabs. Helped maintain @reactjs once upon a time., Senior Engineer @herodevs\\r\\n\\r\\nPrev: @stenciljs @cypress-io, @vuejs Test Utils. Occasional contributor to @vueuse @vitest-dev, I am a hacker and not a criminal or unethical techie; I see the world differently and I  want to learn how technology works and use it for positive purposes., Applied research @ Mosaic @ Databricks. Formerly Principal DS/ML Specialist @ Databricks.  Apache Spark PMC / committer. Primary author, zxing and Oryx project., Waymo Perception SWE. Phd graduate from TTIC., Inventor of Axiom, NumPy, SciPy, Numba, Conda, PyData, NumFocus, Anaconda, Quansight, OpenTeams, Principal Engineer @GibsonAI, Computer engineer with a passion for embedded systems, free software, and Linux. Amateur photographer, mechanic, and musician., Cloud native and its management.             \\r\\nHiring. See https://layer5.io/careers, Engineering leader specializing in autonomous, outcome-driven remote teams.\\r\\n\\r\\nOpen-source JavaScript/Node.js developer focused on UX/DX.\\r\\n, Securing the future through modern technology. , \\r\\n    \\r\\n    \\r\\n    Pretending to program\\r\\n\\r\\n\\r\\n, 雨夜 不必撑伞, making and breaking\\r\\n, mimimum viable programmer, Founder & Editor-in-Chief of Changelog.com, Currently working on serverless and storage at @cloudflare. Previously built out @cockroachdb internals and worked on @kubernetes at @google in the early days, i make the old electronics be cute ok, PSIRT @ GitHub, Decentralized Finance at @Coinbase.\\r\\nPreviously React Native Core at @Facebook., Technical writer, wife, mom, huge nerd., 💻🛠️🎵🌱✈️🐶, Generative Artist • Game Designer • Software Engineer • Tiny Code Expert • Musician • Zen Buddhist • Friend to Cats, Devin is a full-stack developer based in Austin, Texas. Building interesting things with WooCommerce @ Universal Yums., a credible developer wouldn\\'t know this much about shell scripting, Blue Hat League, always paying it forward, UX Engineer | IBM, simulation explorer, Software Engineer • Organiser @OurTechCommunity • FAE @amd, Indie software developer. Project Maintainer for @MarlinFirmware., @pmndrs, @threejs | Mathematician, Physicist | Graphics, Games, Cats, The \"Shade Tree Developer\", Developer. Disciple. Computer science aficionado. Mobile enthusiast. Drum machine. Rock climbing extraordinaire. The next American Ninja Warrior., Silicon Labs is a leading provider of solutions for a smarter, more connected world.  The official GitHub account contains officially supported repositories., Leading the Way with Innovative, Heterogeneous Software Tools, [\\'C\\', \\'C++\\', \\'Erlang/OTP\\', \\'Python\\']., a meat clown, Focus on erasure correction coding (ECC/FEC), cryptography, networking libraries, lossless image compression, Azure Kinect, XR, Large Language Models, Bitcoin dev\\r\\n, Motivated and enthusiastic software developer with a passion for learning. Code used by @phoenixframework, @supabase, @googleapis, @basho, @2600hz, @irccloud, A (mostly Ruby) open source developer (Selenium, Watir, etc); passionate about digital confidence & improving test automation success., Pursuing all parts of the Web stack. Love helping people. Passionate about clean code., Chief Scientist at @OPSWAT. Formerly CTO at @InQuest. Previously founded the ZeroDayInitiative.com and OpenRCE.org. @pedramamini on Twitter., Podcaster at 5by5.tv. Founder of Fireside.fm. Way of the future., ☕️, i live 400 miles underground, Fanatical about Web3 DX 👨\\u200d💻 CLIs, Full Stack Web, Distributed & Decentralized Systems ❤️ Solidity, Go, TypeScript, React, Node.js, GraphQL, Docker, K8s, AWS ✨, Senior Software Engineer. Node.js, PHP, Python, C++, JavaScript, React, React Native, Working hard to make it easier, Just a guy in Austin, Texas.  Feel free to check out my Resume https://www.resumonk.com/chriskacerguis, \\r\\n    Generative artist, Apache Cassandra Committer/PMC.\\r\\n, open source developer, CTO of Shopmonkey, previous co-founder/CEO of pinpoint.com, previous co-founder/CEO of Appcelerator, I make complex things simple. \\r\\n\\r\\nI also run the Austin Nodejs Meetup (AustinNodeJS.com)! \\r\\n\\r\\n, ROCm: Platform for GPU Enabled HPC and UltraScale Computing, Secretary of State, Praetorian provides a suite of security solutions that enable clients to solve cybersecurity problems across their enterprise and product portfolios., MS CS @ Texas State University, Fast, safe, portable & serverless. Deploy Rust functions in edge computing, Jamstack, SaaS and service mesh applications., A person who discovered a passion for computer science., Head of Engineering for DevOps at @atlassian, Building design systems @github. Prev @carbon-design-system, Professor of Petroleum and Geosystems Engineering and Aerospace Engineering and Engineering Mechanics at The University of Texas at Austin, Platform Engineer @civo , ✏ Product design manager, trades & raves\\r\\n\\r\\n\\r\\n, Geologist interested in analyzing, modeling, and visualizing clastic sedimentary systems\\r\\n, Father, Husband, Eagle Scout, Beer Nerd, and Computer Nerd. I work as a Developer Advocate for IBM., 🇺🇸 \\u3000🇮🇱 \\u3000🇺🇦, VP of Engineering @chainguard-dev \\r\\nOpen source author and maintainer, A humble programmer., cybersecurity stuff, mostly, Technologist focused on Decentralizing Everything. Interested in Bitcoin, Ethereum, Morpheus & Smart Agents, Product builder skilled with data and cross-functional collaboration. Python, TypeScript, JavaScript, C++, Rust, Linux, Pandas, Data Viz, CSS, ..., DevRel Extroerdinaire. Gamer. Catparent. They/them. NodeBots author/addict. Punster. EE Dropout/Self-Study. a.k.a @ATX-Sabine  , Recovering System Administrator who left the cubicle and pager behind for the SE life, PhD student in UTNS @ UT Austin., Full-Stack Software Engineer, Mobile Developer, Web technologies enthusiast. CSS aficionado. Active moderator in StackOverflow en Español., Husband. Father. Pug dad. Born again Linux user., Associate Professor,\\r\\nPsychology Department,\\r\\nUniversity of Texas at Austin, A friend of FOSS with a voice (and face) for radio! Creator and maintainer of the @AzuraCast web radio suite., Founder of Infochimps, Vigilantebar, Tookstock. EIR at Capital Factory, Dir Community at ATX Hackerspace. He/Him., A little bit of what I\\'ve worked on so far. Feel free to use any of it, all is public domain or GPL., web3/CTF, Executive Director at DSLC.io (fka @r4ds) | Advanced R Programming Consultant | I live in Austin, Texas, with my spouse, two children, and two large dogs., CS student @ UT Austin; looking to dive deeper into the world of systems programming and computer architecture., Research Scientist at Apple AI/ML\\r\\nPh.D at University of Texas at Austin, Coder, mnmalist, UI/video @muxinc , Software and drones, A father, husband, friend, son, and VMware engineer., @nodejs TSC Emeritus, Developer Advocate, Google Cloud AI, WP Engine provides managed hosting for mission critical sites built on WordPress around the world., @google developer expert for @angular and @actions-on-google, Degree in CS & AI.  Creator of freenet.org, kweb.io, 33mail.com., Assistant Professor of Civil Engineering at UT Austin, Co-author of the Grain programming language & empowering developers through WebAssembly 🤓, Project lead for the Hibernate ORM project.  Developer of Gradle plugins.  OSS advocate.  Outdoor advocate ;), Director of Professional Services at Anaconda, Inc., founder of the HoloViz project, and former Reader in Computational Neuroscience at University of Edinburgh., Old internet punk. Creator of Shuttlecraft. Creator of Botkit., Principal Software Engineer @ConciergeAuctions , Currently building https://messageaid.com - a UI tool for messaging based systems.\\r\\n, Sr. DevX Engineer @Clerk | Father | Autistic | Air Force Veteran | Hardware Enthusiast | Camping & Hiking 🏕️ | Trekkie | D&D | OSS Enthusiast, Principal eng @bigcommerce, formerly @modxcms, UT-Austin. distributed systems/architecture/mesh/grpc. likes fruit snacks., I am a polyglot programmer with more than 15 years of professional programming experience, and author of 20+ books including: Genetic Algorithms with Python., Tech Lead, experienced in C++ and JavaScript/TypeScript, interested in programming languages and compilers., iOS and Haskell and Dumb Domain Names, 촐단, computerer, I work on complex systems. I\\'ve worked on Chrome (at Google), Self-driving Vehicles (at Toyota Research) and Robotics (at GoogleX)., Engineering Leader, Founder \\r\\n- Platform & Product, Software engineer focused on solving problems leveraging open source content management, search, and workflow technology, Senior KMP/Android/iOS Software Developer, Seeming Mostly Human, hey, Developer Educator at Temporal, Community Organizer, owner of Labradors\\r\\n, Machine Learning Engineer, Former Principal Engineer at Anaconda, Inc. Previously a devops tech lead at 23andMe. EE PhD in semiconductors and optics., I like emojis and building cool stuff 🔥, Solutions Architect, Microsoft MVP, Fueled by books, video games, and code., computers are cool and @hackclub is too :) // cs student @utdal , @ionide maintainer,  .NET SDK/MSBuild/Template Engine PM, Machine Learning Researcher. Ph.D. student, UT Austin., http://www.superamazing.website, Creator of Open-Transactions. Interests: Financial cryptography, AI and machine learning, semantic graph, autocoding, agentic orchestration, agent architecture., Founder of Micro.blog., Systems engineer by day, network performance junkie by night.\\r\\n\\r\\nWorking @cloudflare.\\r\\n\\r\\ntokio.rs core team member, Pragmatic technologist., mac IT wonk, music doctor, Machine Learning @ Stanford | MS Data Analytics | MBA | BS Physics |\\r\\nMachine Learning, AI, Big Data, Visualizations, eng @ LTK, Developer Advocate at Google, Swift, iOS, Rust, C, building @champifyio , ＩＮＴＥＲＮＥＴ ＤＥＣＯＲＡＴＯＲ ･:*+.\\\\(( °ω° ))/.:+, President & Founder of @reactive-io, HTML | CSS | JAVASCRIPT |\\r\\nREACT | REMIX | NEXT JS |  NODE JS | KOA | STRAPI, ¯\\\\_(0_0)_/¯, Open source tools, SDKs, and more provided by SailPoint., Web professional | Most hobby projects are related to some subset of languages, games, graphics, and Rust, Full stack engineer, passionate for open source technology., Staff Software Engineer at @github, Research scientist at Google in Austin working on grounded language understanding.\\r\\n, UI/UX Engineer, Terraform modules developed by Oracle, I am a developer., Software Engineer, passionate about Data Science and Machine Learning., Associate Professor, University of Texas at Austin. Director of UT Systems and Storage Lab (@utsaslab).  , Ex-Googler, founder, engineer, maintainer, maintainer, designer, leader, HsingI-er, racer, storyteller. I ❤️ \\r\\nleadership, authenticity and play., C++ Committee Member, Boost Author, Regular C++Now Attendee, Former D-1 basketball player 🏀 | Currently 6\\'3 👨\\u200d👦 | Dev 👨🏼\\u200d💻 | 🇧🇷🇺🇸 , Data scientist passionate about deep learning and behavior analytics. Knocking down data silos to learn the WHY and HOW that enables building products we love., I code, game and make music. , Technology Professional hailing from Montreal and now calling ATX home, mad scientist at @nexcess / @liquidweb., Unfortunately computers are my hobby.\\r\\n\\r\\nBuilding R2 & Queues at Cloudflare. Built Prisma Studio in a past life. He/him., Hello World guy, making computers 🖥️ make things 🤖, The Internet\\'s Christopher Schmitt, Everywhere: @anibalsolon , CTO at Rastegar Capital | AI Scientist | Adj. Prof at UTCS | Former Deep Learning Scholar @openai | @Stanford CS, Offensive Security Engineer. Previous: Vuln Research Consultant @ Dell. Lead Exploit Dev @ Metasploit. Past accounts: @wchen-r7, @sinn3r, ❤️ building awesome and useful applications., Hacker, speaker, researcher, fed, election judge, Metasploit collaborator, @AustinHackers founder, vulnerability discloser, AKA @todb-cisa / @todb-r7, Engineering @wpengine , Lead Senior Software Engineer & Master User Experience Designer, Founder at LIBLAB (we\\'re hiring!)\\r\\n\\r\\nPreviously - Facebook, AWS, Senior Software Engineer , Believer in Jesus Christ. Amateur goal miss\\'er, Ultimate disc dropper and regular golf duffer. Creating incidents and automating things that shouldn’t be., Home of the Windows Logging Cheat Sheets,  Reinforcement Learning, Roboticist, Bring intranet on the internet. What happens in intranet, stays in intranet. , Australian, static typing enthusiast, formerly @cloudflare., Software Engineer, Roboticist; enjoy working with robot motion planning, perception, and systems design. Go ROS-Industrial., @jrf0110 on github, principal eng @cloudflare workers & pages.\\r\\npreviously @stripe design systems, Co-founder @project-read. Previously @Figma., OSS Engineer; @containerd maintainer; working @oci, @cncf, and @kubernetes projects, Software Architect @startwithlucy.\\r\\n\\r\\nFounder and CTO @boltsource.\\r\\n\\r\\nPrev @gatsbyjs (acq by @netlify), Jiff (acq by @castlight) and Jobstart (acq by @stripe), Lead Security Researcher / Exploit Developer for the Metasploit Project at Rapid7, PhD student at UT Austin.\\r\\nEmail: bosun@cs.utexas.edu, aka Dr. Bleep, founder @coder\\r\\n, Hello! 👋 , graphics / 3D vision / machine learning, I am the director of computer vision and machine learning at Simbe Robotics.\\r\\n\\r\\nAs a Jack of Some trades, I make Youtube videos too., Senior Software Engineer @Atlassian \\\\ \\r\\nBoard Member, @Open-Austin \\\\\\r\\nTreasurer @TechmillDenton \\\\ ∆∆∆ \\r\\nFarmer @GreenfinityFarms \\\\, Author of the Ruby gems pg_search and with_model, Open-source application developer, web engineer. Swift/Kotlin/VUE, Building web applications, leading technical training, and guiding teams at @pineworksco , Brandon is VP of DevEx for Blues Wireless and the founder of Carrot Pants Press, a maker education and publishing company., Senior Software Engineer, The Zero Day Initiative, Trend Micro Inc., founded by TippingPoint, is a program for rewarding security researchers for responsibly disclosing vulnerabilities, I DON\\'T EVEN KNOW WHAT I\\'M DOING HERE YEAH YEAH YEAH YEAH, Sleep every day!, I\\'m a product manager at GitHub., Artist, Musician, Bartender turned Front-end Developer., Web builder, I build software using VS Code, TypeScript, and Azure. You should too. If you want to learn, contact me, and I\\'ll get you going., distributed systems & developer tooling, Rapid7 Account, Lead for .NET wasm runtimes @microsoft, Home of the USRP™ Software-Defined Radio!, Software Engineer, Shepherd., Software Architect @electronicarts, I once taught dots on the screen to collect resources, and now I teach Second Graders STEM to build better humans organically., Scientist and technologist quantifying uncertainty in astronomical data, formerly with Kepler/K2, Kavli Institute Beijing, UT Austin PhD 2015., ZDI, former MSF Dev, RPI grad, the cake is a lie. I\\'m a dude, playing a dude, disguised as another dude., I am a human person, Gamedev and owner of award-winning ATX indie studio Team Dogpit, UX Developer at Indeed, MS in Human-Computer Interaction from Georgia Tech, BS in Computer Science from TAMU, Security Engineer @brexhq; Previously @cloudflare, Cyber@UCR; Hobbyist reverse engineer of 🍎  or 🐧  stuff. , License to kill -9, 💻 Passionate software developer and ethical hacker. Engaged with @Ethereum ., Engineer with a passion for Bitcoin, Lightning, Nostr, FOSS, and developer education., coding hard, caving hard.\\r\\n\\r\\nFeel free to @ me if I forget about issues 🙃, Swift Developer that dabbles in JavaScript, Open Source Software Engineer | @IBM Quantum,\\r\\n@Jupyterlab Council member, and\\r\\n@Apache Livy PPMC.\\r\\n, go <-> rust\\r\\n\\r\\n, Nothing to be done., Dev, Ops, Security, Lens Flares, I enjoy the bleeding-edge of technology.\\r\\n\\r\\n#Node #Typescript #React #Docker #Tor #Bitcoin #Lightning #Nostr <3, Gluu\\'s main repo for its open source identity federation and API security platform., Engineering Manager @github, SVP, CTO, Just a human, doing my best, Network Engineer, python, Go, Last of the freelance hackers, greatest sword fighter in the world., 🌸🔌🌸· 👩🏻\\u200d💻· she/they · @soft-aesthetic dev enviros, CEO @ Axiacore, Software Engineer @reflexhq\\r\\nFormer Software Engineer @alchemyeng & @cdr., Elegant, developer-friendly languages and code. Interfaces are everything. Code is for humans., Passionately creative front-end web developer. Lifelong learner and believer in the power of change through creative endeavors., InfoSec Founder, Practitioner, Advisor & SANS DFIR Instructor, Security Researcher, Software development company, Engineer @Syndica \\r\\n \\r\\nCS & Math @UTAustin, Staff Designer and author of Inclusive Design Communities, Engineering Director, working @hashicorp on fun distributed systems problems. Formerly principal engineer @indeedeng, Software, network, & data engineer\\r\\n, 2012-now: Oracle Tap iOS | 2008-now: TexLege | 2011: Open States iOS | 2009-2012: Professor @ UT Dallas & SMU | 1995-1998: MacOS CodeWarrior @ Metrowerks, Distinguished Engineer @ExpediaGroup and Principal Architect  @vrbo (formerly @homeaway). Previously @paypal and @krakenjs., Chief Technology Officer @kortstrid \\r\\nPartner @ValsogardEnterprise \\r\\nOwner @Cajun-Pro-LLC \\r\\nLead Solidity & Web3 Developer @thecosmicuniverse, Technical Program Manager for Flutter and Dart @Google\\r\\n, @Linkerd talky person and Chief Email Outputter at @BuoyantIO., usually living at the intersection of data and APIs.\\r\\n\\r\\nex @planetscale, @stoplightio, @keen, and some other startups., Kubernetes/OpenShift, Devastatingly handsome 🍁, security, DFIR, DevOps, cloud, startup, and BBQ renaissance strongman executive. Former rugby prop, current rugby coach., open source all the things, runZero, Remix Developer Relations Manager, Human, skeptic | educator | maker | parent | curious | creative | introvert\\r\\nhttps://about.me/skeptycal, #rstats and other things, Building something new. Previously Founder & CTO at @blend, engineer at @palantir, Software Developer. React, TypeScript, JavaScript, Node, Java, Relentless Improvement. Asker of inconvenient questions., Dev Manager | Front End Lead @carbon-design-system @ibm-design, Tell a little about yourself, Hacker, Troll, and Mental Health Advocate., UNIX N3RD., Integration Engineer @airtable | formerly @slackapi, @dominodatalab, @socrata; tech cofounder @Social-Health-Insights, Comfy, Developer, Austin, Rust, Kubernetes, and Bitcoin, Principal Engineer at Shippo, Product Designer, making happy little experiences, i like to build digital things\\r\\n\\r\\n-🌀🎷, I am an assistant professor at UT Austin. My research involves optimal control, motion planning, and game theory., CTO @hydradatabase, Leader, Engineer, Rubyist, Rustacean; formerly @heroku, @CrunchyData, Ph.D. student at UT Austin, Someone described my demeanor as \"an anxiety bordering on panic,\" so I\\'m feeling very seen today., JavaScript and Python. Working on satellites at https://umbra.space.\\r\\nPreviously @mapbox, @18F, @TNRIS., Full stack developer, architect, sci fi addict, UCLA alum. Equities trader. , Professional game devloper, Maintainer: \\r\\n- MMWormhole\\r\\n- MMRecord\\r\\n\\r\\nI build iOS apps at @underarmour. On twitter @conradstoll., Java backend developer, Open source software contributor and technology entrepreneur in perpetual reinforcement learning mode., Sr. Frontend Engineer, UX enthusiast, and father of boys with natural Mohawks. , Scientific software architect striving at driving the world to a better place and driving science forward using open source., CTO.I code, 3d print, and drum, not necessarily in that order.\\r\\n, Senior Principal Software Engineer \\r\\n@ Dell Technologies\\r\\n, GitHub Actions from Oracle, \"Every living being has its own methods for sensing and understanding the world.\"   , Software craftsman in Austin, Texas, I hacked NASA with a toaster, I write software using a variety of languages (Typescript, Go, PHP, etc), Building SaaS for GTM teams while growing sales engineering ▲ \\r\\n@Vercel, We build breakthrough products in partnership with the world\\'s leading companies., If you wake up at a different time in a different place, could you wake up as a different person?, Repositories of AMD IT Organization , My name is Gengchen Mai, an assistant professor at UT Austin Geography. I was an AP at UGA Geography. My research focuses on Spatially Explicit AI, A high-powered mutant of some kind never even considered for mass production. Too weird to live, and too rare to die.'"
      ]
     },
     "execution_count": 39,
     "metadata": {},
     "output_type": "execute_result"
    }
   ],
   "source": [
    "bios = usersdf['bio'].dropna()\n",
    "', '.join(bios)"
   ]
  },
  {
   "cell_type": "markdown",
   "metadata": {},
   "source": [
    "### Q14\n",
    "Who created the most repositories on weekends (UTC)? List the top 5 users' login in order, comma-separated"
   ]
  },
  {
   "cell_type": "code",
   "execution_count": 30,
   "metadata": {},
   "outputs": [
    {
     "data": {
      "text/plain": [
       "'FellowTraveler, realityexpander, OR13, PaulBratslavsky, skeptycal'"
      ]
     },
     "execution_count": 30,
     "metadata": {},
     "output_type": "execute_result"
    }
   ],
   "source": [
    "repositoriesdf['created_at'] = pd.to_datetime(repositoriesdf['created_at'])\n",
    "repositoriesdf['day_of_week'] = repositoriesdf['created_at'].dt.dayofweek\n",
    "\n",
    "weekend_repos = repositoriesdf[(repositoriesdf['day_of_week'] == 5) | (repositoriesdf['day_of_week'] == 6)]\n",
    "repo_counts = weekend_repos['login'].value_counts()\n",
    "\n",
    "top_users = repo_counts.nlargest(5).index.tolist()\n",
    "\n",
    "', '.join(top_users)"
   ]
  },
  {
   "cell_type": "markdown",
   "metadata": {},
   "source": [
    "### Q15\n",
    "Do people who are hireable share their email addresses more often?\n",
    "[fraction of users with email when hireable=true] minus [fraction of users with email for the rest] (to 3 decimal places, e.g. 0.123 or -0.123)"
   ]
  },
  {
   "cell_type": "code",
   "execution_count": 31,
   "metadata": {},
   "outputs": [
    {
     "data": {
      "text/plain": [
       "0.515"
      ]
     },
     "execution_count": 31,
     "metadata": {},
     "output_type": "execute_result"
    }
   ],
   "source": [
    "total_users = usersdf.shape[0]\n",
    "\n",
    "hireable_with_email = usersdf[(usersdf['hireable'] == True) & (usersdf['email'].notna())].shape[0]\n",
    "total_hireable = usersdf[usersdf['hireable'] == True].shape[0]\n",
    "\n",
    "non_hireable_with_email = usersdf[(usersdf['hireable'] == False) & (usersdf['email'].notna())].shape[0]\n",
    "total_non_hireable = usersdf[usersdf['hireable'] == False].shape[0]\n",
    "\n",
    "fraction_hireable = hireable_with_email / total_hireable if total_hireable > 0 else 0\n",
    "fraction_non_hireable = non_hireable_with_email / total_non_hireable if total_non_hireable > 0 else 0\n",
    "\n",
    "difference = fraction_hireable - fraction_non_hireable\n",
    "round(difference, 3)"
   ]
  },
  {
   "cell_type": "markdown",
   "metadata": {},
   "source": [
    "### Q16\n",
    "Let's assume that the last word in a user's name is their surname (ignore missing names, trim and split by whitespace.) What's the most common surname? (If there's a tie, list them all, comma-separated, alphabetically)\n",
    "Number of users with the most common surname"
   ]
  },
  {
   "cell_type": "code",
   "execution_count": 32,
   "metadata": {},
   "outputs": [
    {
     "data": {
      "text/plain": [
       "'Labs, Moore, Smith'"
      ]
     },
     "execution_count": 32,
     "metadata": {},
     "output_type": "execute_result"
    }
   ],
   "source": [
    "users_with_names = usersdf[usersdf['name'].notna()]['name'].str.strip()\n",
    "surnames = users_with_names.apply(lambda x: x.split()[-1])\n",
    "\n",
    "surname_counts = surnames.value_counts()\n",
    "\n",
    "most_common_count = surname_counts.max()\n",
    "most_common_surnames = surname_counts[surname_counts == most_common_count].index.tolist()\n",
    "\n",
    "most_common_surnames.sort()\n",
    "# number_of_users = most_common_count\n",
    "\n",
    "', '.join(most_common_surnames)\n"
   ]
  }
 ],
 "metadata": {
  "kernelspec": {
   "display_name": "Python 3",
   "language": "python",
   "name": "python3"
  },
  "language_info": {
   "codemirror_mode": {
    "name": "ipython",
    "version": 3
   },
   "file_extension": ".py",
   "mimetype": "text/x-python",
   "name": "python",
   "nbconvert_exporter": "python",
   "pygments_lexer": "ipython3",
   "version": "3.10.11"
  }
 },
 "nbformat": 4,
 "nbformat_minor": 2
}
