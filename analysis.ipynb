{
 "cells": [
  {
   "cell_type": "markdown",
   "metadata": {},
   "source": [
    "### Setup"
   ]
  },
  {
   "cell_type": "code",
   "execution_count": 63,
   "metadata": {},
   "outputs": [],
   "source": [
    "import pandas as pd\n",
    "import statsmodels.api as sm"
   ]
  },
  {
   "cell_type": "code",
   "execution_count": 64,
   "metadata": {},
   "outputs": [],
   "source": [
    "user_file_path = 'users.csv'\n",
    "repo_file_path ='repositories.csv'  "
   ]
  },
  {
   "cell_type": "code",
   "execution_count": 65,
   "metadata": {},
   "outputs": [],
   "source": [
    "usersdf = pd.read_csv(user_file_path)\n",
    "repositoriesdf = pd.read_csv(repo_file_path)\n"
   ]
  },
  {
   "cell_type": "code",
   "execution_count": 66,
   "metadata": {},
   "outputs": [],
   "source": [
    "# usersdf['hireable'].fillna(False, inplace=True)\n",
    "# usersdf.to_csv('users.csv', index=False)"
   ]
  },
  {
   "cell_type": "markdown",
   "metadata": {},
   "source": [
    "### Q1\n",
    "Who are the top 5 users in Austin with the highest number of followers? List their login in order, comma-separated."
   ]
  },
  {
   "cell_type": "code",
   "execution_count": 67,
   "metadata": {},
   "outputs": [
    {
     "data": {
      "text/plain": [
       "['getify', 'benawad', 'steveklabnik', 'cloudflare', 'jbogard']"
      ]
     },
     "execution_count": 67,
     "metadata": {},
     "output_type": "execute_result"
    }
   ],
   "source": [
    "top_users = usersdf.nlargest(5, 'followers')\n",
    "top_user_logins = top_users['login'].tolist()\n",
    "top_user_logins"
   ]
  },
  {
   "cell_type": "markdown",
   "metadata": {},
   "source": [
    "### Q2\n",
    "Who are the 5 earliest registered GitHub users in Austin? List their login in ascending order of created_at, comma-separated."
   ]
  },
  {
   "cell_type": "code",
   "execution_count": 68,
   "metadata": {},
   "outputs": [
    {
     "data": {
      "text/plain": [
       "['jnewland', 'joshknowles', 'hassox', 'jicksta', 'dan']"
      ]
     },
     "execution_count": 68,
     "metadata": {},
     "output_type": "execute_result"
    }
   ],
   "source": [
    "earliest_users = usersdf.sort_values(by='created_at')\n",
    "earliest_logins = earliest_users['login'].head(5).tolist()\n",
    "earliest_logins"
   ]
  },
  {
   "cell_type": "markdown",
   "metadata": {},
   "source": [
    "### Q3\n",
    "What are the 3 most popular license among these users? Ignore missing licenses. List the license_name in order, comma-separated."
   ]
  },
  {
   "cell_type": "code",
   "execution_count": 69,
   "metadata": {},
   "outputs": [
    {
     "data": {
      "text/plain": [
       "['mit', 'apache-2.0', 'other']"
      ]
     },
     "execution_count": 69,
     "metadata": {},
     "output_type": "execute_result"
    }
   ],
   "source": [
    "popular_licenses = repositoriesdf['license_name'].dropna()\n",
    "license_counts = popular_licenses.value_counts()\n",
    "top_3_licenses = license_counts.nlargest(3)\n",
    "result = top_3_licenses.index.tolist()\n",
    "result"
   ]
  },
  {
   "cell_type": "markdown",
   "metadata": {},
   "source": [
    "### Q4\n",
    "Which company do the majority of these developers work at?"
   ]
  },
  {
   "cell_type": "code",
   "execution_count": 70,
   "metadata": {},
   "outputs": [
    {
     "data": {
      "text/plain": [
       "'GOOGLE'"
      ]
     },
     "execution_count": 70,
     "metadata": {},
     "output_type": "execute_result"
    }
   ],
   "source": [
    "company_counts = usersdf['company'].value_counts()\n",
    "most_common_company = company_counts.idxmax()\n",
    "# most_common_count = company_counts.max()\n",
    "most_common_company"
   ]
  },
  {
   "cell_type": "markdown",
   "metadata": {},
   "source": [
    "### Q5\n",
    "Which programming language is most popular among these users?"
   ]
  },
  {
   "cell_type": "code",
   "execution_count": 71,
   "metadata": {},
   "outputs": [
    {
     "data": {
      "text/plain": [
       "'JavaScript'"
      ]
     },
     "execution_count": 71,
     "metadata": {},
     "output_type": "execute_result"
    }
   ],
   "source": [
    "language_counts = repositoriesdf['language'].value_counts()\n",
    "most_popular_language = language_counts.idxmax()\n",
    "most_popular_count = language_counts.max()\n",
    "most_popular_language"
   ]
  },
  {
   "cell_type": "markdown",
   "metadata": {},
   "source": [
    "### Q6\n",
    "Which programming language is the second most popular among users who joined after 2020?"
   ]
  },
  {
   "cell_type": "code",
   "execution_count": 72,
   "metadata": {},
   "outputs": [
    {
     "name": "stdout",
     "output_type": "stream",
     "text": [
      "The second most popular programming language is: HTML (75 repositories)\n"
     ]
    }
   ],
   "source": [
    "usersdf['created_at'] = pd.to_datetime(usersdf['created_at'])\n",
    "recent_users = usersdf[usersdf['created_at'] > '2020-01-01']\n",
    "recent_user_logins = recent_users['login']\n",
    "filtered_repositories = repositoriesdf[repositoriesdf['login'].isin(recent_user_logins)]\n",
    "\n",
    "language_counts = filtered_repositories['language'].value_counts()\n",
    "\n",
    "if len(language_counts) >= 2:\n",
    "    second_most_popular_language = language_counts.index[1]\n",
    "    second_most_popular_count = language_counts[1]\n",
    "    print(f\"The second most popular programming language is: {second_most_popular_language} ({second_most_popular_count} repositories)\")\n",
    "else:\n",
    "    print(\"Not enough data to determine the second most popular language.\")"
   ]
  },
  {
   "cell_type": "markdown",
   "metadata": {},
   "source": [
    "### Q7\n",
    "Which language has the highest average number of stars per repository?"
   ]
  },
  {
   "cell_type": "code",
   "execution_count": 73,
   "metadata": {},
   "outputs": [
    {
     "data": {
      "text/plain": [
       "'Fennel'"
      ]
     },
     "execution_count": 73,
     "metadata": {},
     "output_type": "execute_result"
    }
   ],
   "source": [
    "average_stars = repositoriesdf.groupby('language')['stargazers_count'].mean()\n",
    "\n",
    "highest_average_language = average_stars.idxmax()\n",
    "highest_average_count = average_stars.max()\n",
    "highest_average_language\n"
   ]
  },
  {
   "cell_type": "markdown",
   "metadata": {},
   "source": [
    "### Q8\n",
    "Let's define leader_strength as followers / (1 + following). Who are the top 5 in terms of leader_strength? List their login in order, comma-separated."
   ]
  },
  {
   "cell_type": "code",
   "execution_count": 74,
   "metadata": {},
   "outputs": [
    {
     "data": {
      "text/plain": [
       "'getify, cloudflare, benawad, oracle, ContinuumIO'"
      ]
     },
     "execution_count": 74,
     "metadata": {},
     "output_type": "execute_result"
    }
   ],
   "source": [
    "usersdf['leader_strength'] = usersdf['followers'] / (1 + usersdf['following'])\n",
    "top_leaders = usersdf.nlargest(5, 'leader_strength')\n",
    "top_logins = top_leaders['login'].tolist()\n",
    "', '.join(top_logins)"
   ]
  },
  {
   "cell_type": "markdown",
   "metadata": {},
   "source": [
    "### Q9\n",
    "What is the correlation between the number of followers and the number of public repositories among users in Austin?"
   ]
  },
  {
   "cell_type": "code",
   "execution_count": 75,
   "metadata": {},
   "outputs": [
    {
     "data": {
      "text/plain": [
       "0.151"
      ]
     },
     "execution_count": 75,
     "metadata": {},
     "output_type": "execute_result"
    }
   ],
   "source": [
    "correlation = usersdf['followers'].corr(usersdf['public_repos'])\n",
    "round(correlation, 3)"
   ]
  },
  {
   "cell_type": "markdown",
   "metadata": {},
   "source": [
    "### Q10\n",
    "Does creating more repos help users get more followers? Using regression, estimate how many additional followers a user gets per additional public repository.\n",
    "Regression slope of followers on repos (to 3 decimal places, e.g. 0.123 or -0.123)"
   ]
  },
  {
   "cell_type": "code",
   "execution_count": 76,
   "metadata": {},
   "outputs": [
    {
     "data": {
      "text/plain": [
       "4.102"
      ]
     },
     "execution_count": 76,
     "metadata": {},
     "output_type": "execute_result"
    }
   ],
   "source": [
    "X = usersdf['public_repos'] \n",
    "y = usersdf['followers']\n",
    "\n",
    "X = sm.add_constant(X)\n",
    "model = sm.OLS(y, X).fit()\n",
    "\n",
    "slope = model.params['public_repos']\n",
    "round(slope, 3)"
   ]
  },
  {
   "cell_type": "markdown",
   "metadata": {},
   "source": [
    "### Q11\n",
    "Do people typically enable projects and wikis together? What is the correlation between a repo having projects enabled and having wiki enabled?\n",
    "Correlation between projects and wiki enabled (to 3 decimal places, e.g. 0.123 or -0.123)"
   ]
  },
  {
   "cell_type": "code",
   "execution_count": 77,
   "metadata": {},
   "outputs": [
    {
     "data": {
      "text/plain": [
       "0.274"
      ]
     },
     "execution_count": 77,
     "metadata": {},
     "output_type": "execute_result"
    }
   ],
   "source": [
    "repositoriesdf['has_projects'] = repositoriesdf['has_projects'].astype(int)\n",
    "repositoriesdf['has_wiki'] = repositoriesdf['has_wiki'].astype(int)\n",
    "\n",
    "correlation = repositoriesdf['has_projects'].corr(repositoriesdf['has_wiki'])\n",
    "round(correlation, 3)"
   ]
  },
  {
   "cell_type": "markdown",
   "metadata": {},
   "source": [
    "### Q12\n",
    "Do hireable users follow more people than those who are not hireable?\n",
    "Average of following per user for hireable=true minus the average following for the rest (to 3 decimal places, e.g. 12.345 or -12.345)"
   ]
  },
  {
   "cell_type": "code",
   "execution_count": 84,
   "metadata": {},
   "outputs": [
    {
     "data": {
      "text/plain": [
       "108.801"
      ]
     },
     "execution_count": 84,
     "metadata": {},
     "output_type": "execute_result"
    }
   ],
   "source": [
    "avg_following_hireable = usersdf[usersdf['hireable'] == True]['following'].mean()\n",
    "avg_following_non_hireable = usersdf[usersdf['hireable'] == False]['following'].mean()\n",
    "difference = avg_following_hireable - avg_following_non_hireable\n",
    "round(difference, 3)"
   ]
  },
  {
   "cell_type": "markdown",
   "metadata": {},
   "source": [
    "### Q13\n",
    "Some developers write long bios. Does that help them get more followers? What's the correlation of the length of their bio (in Unicode words, split by whitespace) with followers? (Ignore people without bios)\n",
    "Regression slope of followers on bio word count (to 3 decimal places, e.g. 12.345 or -12.345)"
   ]
  },
  {
   "cell_type": "code",
   "execution_count": 79,
   "metadata": {},
   "outputs": [
    {
     "name": "stderr",
     "output_type": "stream",
     "text": [
      "C:\\Users\\abhim\\AppData\\Local\\Temp\\ipykernel_15380\\3335181940.py:3: SettingWithCopyWarning: \n",
      "A value is trying to be set on a copy of a slice from a DataFrame.\n",
      "Try using .loc[row_indexer,col_indexer] = value instead\n",
      "\n",
      "See the caveats in the documentation: https://pandas.pydata.org/pandas-docs/stable/user_guide/indexing.html#returning-a-view-versus-a-copy\n",
      "  users_with_bios.loc[:, 'bio_word_count'] = users_with_bios['bio'].apply(lambda x: len(x.split()))\n"
     ]
    },
    {
     "data": {
      "text/plain": [
       "7.974"
      ]
     },
     "execution_count": 79,
     "metadata": {},
     "output_type": "execute_result"
    }
   ],
   "source": [
    "users_with_bios = usersdf[usersdf['bio'].notna()]\n",
    "\n",
    "users_with_bios.loc[:, 'bio_word_count'] = users_with_bios['bio'].apply(lambda x: len(x.split()))\n",
    "\n",
    "X = users_with_bios['bio_word_count']  \n",
    "y = users_with_bios['followers'] \n",
    "\n",
    "X = sm.add_constant(X)\n",
    "model = sm.OLS(y, X).fit()\n",
    "slope = model.params['bio_word_count']\n",
    "\n",
    "round(slope, 3)"
   ]
  },
  {
   "cell_type": "markdown",
   "metadata": {},
   "source": [
    "### Q14\n",
    "Who created the most repositories on weekends (UTC)? List the top 5 users' login in order, comma-separated"
   ]
  },
  {
   "cell_type": "code",
   "execution_count": 80,
   "metadata": {},
   "outputs": [
    {
     "data": {
      "text/plain": [
       "'FellowTraveler, realityexpander, OR13, PaulBratslavsky, skeptycal'"
      ]
     },
     "execution_count": 80,
     "metadata": {},
     "output_type": "execute_result"
    }
   ],
   "source": [
    "repositoriesdf['created_at'] = pd.to_datetime(repositoriesdf['created_at'])\n",
    "repositoriesdf['day_of_week'] = repositoriesdf['created_at'].dt.dayofweek\n",
    "\n",
    "weekend_repos = repositoriesdf[(repositoriesdf['day_of_week'] == 5) | (repositoriesdf['day_of_week'] == 6)]\n",
    "repo_counts = weekend_repos['login'].value_counts()\n",
    "\n",
    "top_users = repo_counts.nlargest(5).index.tolist()\n",
    "\n",
    "', '.join(top_users)"
   ]
  },
  {
   "cell_type": "markdown",
   "metadata": {},
   "source": [
    "### Q15\n",
    "Do people who are hireable share their email addresses more often?\n",
    "[fraction of users with email when hireable=true] minus [fraction of users with email for the rest] (to 3 decimal places, e.g. 0.123 or -0.123)"
   ]
  },
  {
   "cell_type": "code",
   "execution_count": 82,
   "metadata": {},
   "outputs": [
    {
     "data": {
      "text/plain": [
       "0.02"
      ]
     },
     "execution_count": 82,
     "metadata": {},
     "output_type": "execute_result"
    }
   ],
   "source": [
    "total_users = usersdf.shape[0]\n",
    "\n",
    "hireable_with_email = usersdf[(usersdf['hireable'] == True) & (usersdf['email'].notna())].shape[0]\n",
    "total_hireable = usersdf[usersdf['hireable'] == True].shape[0]\n",
    "\n",
    "non_hireable_with_email = usersdf[(usersdf['hireable'] == False) & (usersdf['email'].notna())].shape[0]\n",
    "total_non_hireable = usersdf[usersdf['hireable'] == False].shape[0]\n",
    "\n",
    "fraction_hireable = hireable_with_email / total_hireable if total_hireable > 0 else 0\n",
    "fraction_non_hireable = non_hireable_with_email / total_non_hireable if total_non_hireable > 0 else 0\n",
    "\n",
    "difference = fraction_hireable - fraction_non_hireable\n",
    "round(difference, 3)"
   ]
  },
  {
   "cell_type": "markdown",
   "metadata": {},
   "source": [
    "### Q16\n",
    "Let's assume that the last word in a user's name is their surname (ignore missing names, trim and split by whitespace.) What's the most common surname? (If there's a tie, list them all, comma-separated, alphabetically)\n",
    "Number of users with the most common surname"
   ]
  },
  {
   "cell_type": "code",
   "execution_count": 83,
   "metadata": {},
   "outputs": [
    {
     "data": {
      "text/plain": [
       "'Labs, Moore, Smith'"
      ]
     },
     "execution_count": 83,
     "metadata": {},
     "output_type": "execute_result"
    }
   ],
   "source": [
    "users_with_names = usersdf[usersdf['name'].notna()]['name'].str.strip()\n",
    "surnames = users_with_names.apply(lambda x: x.split()[-1])\n",
    "\n",
    "surname_counts = surnames.value_counts()\n",
    "\n",
    "most_common_count = surname_counts.max()\n",
    "most_common_surnames = surname_counts[surname_counts == most_common_count].index.tolist()\n",
    "\n",
    "most_common_surnames.sort()\n",
    "# number_of_users = most_common_count\n",
    "\n",
    "', '.join(most_common_surnames)\n"
   ]
  }
 ],
 "metadata": {
  "kernelspec": {
   "display_name": "Python 3",
   "language": "python",
   "name": "python3"
  },
  "language_info": {
   "codemirror_mode": {
    "name": "ipython",
    "version": 3
   },
   "file_extension": ".py",
   "mimetype": "text/x-python",
   "name": "python",
   "nbconvert_exporter": "python",
   "pygments_lexer": "ipython3",
   "version": "3.10.11"
  }
 },
 "nbformat": 4,
 "nbformat_minor": 2
}
